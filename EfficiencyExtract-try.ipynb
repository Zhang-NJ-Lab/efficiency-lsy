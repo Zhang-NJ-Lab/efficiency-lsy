{
 "cells": [
  {
   "cell_type": "code",
   "execution_count": 1,
   "id": "00ddd9c2",
   "metadata": {},
   "outputs": [
    {
     "name": "stdout",
     "output_type": "stream",
     "text": [
      "[<class '__main__.PowerConversionEfficiency'>, <class '__main__.PowerConversionEfficiency1'>, <class '__main__.PowerConversionEfficiency2'>]\n",
      "{'PowerConversionEfficiency': {'raw_value': '20.03', 'raw_units': '%', 'value': [20.03], 'units': 'Percent^(1.0)', 'specifier': 'PCE', 'compound': {'Compound': {'names': ['EACl', 'ethylammonium chloride']}}}}\n",
      "{'PowerConversionEfficiency': {'raw_value': '8.64', 'raw_units': '%', 'value': [8.64], 'units': 'Percent^(1.0)', 'specifier': 'PCE', 'compound': {'Compound': {'names': ['Perovskite']}}}}\n",
      "{'PowerConversionEfficiency': {'raw_value': '5.65', 'raw_units': '%', 'value': [5.65], 'units': 'Percent^(1.0)', 'specifier': 'PCE', 'compound': {'Compound': {'names': ['chlorobenzene']}}}}\n",
      "{'PowerConversionEfficiency': {'raw_value': '10.55', 'raw_units': '%', 'value': [10.55], 'units': 'Percent^(1.0)', 'specifier': 'power conversion efficiency', 'compound': {'Compound': {'names': ['CsTFA', 'cesium trifluoroacetate']}}}}\n",
      "{'PowerConversionEfficiency': {'raw_value': '12.19', 'raw_units': '%', 'value': [12.19], 'units': 'Percent^(1.0)', 'specifier': 'PCE', 'compound': {'Compound': {'names': ['ethylammonium chlorine']}}}}\n",
      "{'PowerConversionEfficiency': {'raw_value': '10.12', 'raw_units': '%(', 'value': [10.12], 'units': 'Percent^(1.0)', 'specifier': 'PCE', 'compound': {'Compound': {'names': ['Perovskite']}}}}\n",
      "{'PowerConversionEfficiency': {'raw_value': '9.44', 'raw_units': '%', 'value': [9.44], 'units': 'Percent^(1.0)', 'specifier': 'power conversion efficiency', 'compound': {'Compound': {'names': ['Perovskite', 'perovskite']}}}}\n",
      "{'PowerConversionEfficiency': {'raw_value': '8.87', 'raw_units': '%', 'value': [8.87], 'units': 'Percent^(1.0)', 'specifier': 'power conversion efficiency', 'compound': {'Compound': {'names': ['Perovskite', 'perovskite']}}}}\n",
      "{'PowerConversionEfficiency': {'raw_value': '3.01', 'raw_units': '%', 'value': [3.01], 'units': 'Percent^(1.0)', 'specifier': 'PCE', 'compound': {'Compound': {'names': ['Perovskite', 'perovskite'], 'roles': ['product']}}}}\n",
      "{'PowerConversionEfficiency': {'raw_value': '4', 'raw_units': '%', 'value': [4.0], 'units': 'Percent^(1.0)', 'specifier': 'power conversion efficiency', 'compound': {'Compound': {'names': ['Organometallic halide-perovskite']}}}}\n",
      "{'PowerConversionEfficiency': {'raw_value': '0.44', 'raw_units': '%', 'value': [0.44], 'units': 'Percent^(1.0)', 'specifier': 'PCE', 'compound': {'Compound': {'names': ['silver']}}}}\n",
      "{'PowerConversionEfficiency': {'raw_value': '1.61', 'raw_units': '%', 'value': [1.61], 'units': 'Percent^(1.0)', 'specifier': 'PCE PCE', 'compound': {'Compound': {'names': ['SBI', 'silver bismuth iodide']}}}}\n",
      "{'PowerConversionEfficiency': {'raw_value': '16.89', 'raw_units': '%', 'value': [16.89], 'units': 'Percent^(1.0)', 'specifier': 'PCE', 'compound': {'Compound': {'names': ['Perovskite', 'perovskite'], 'roles': ['product']}}}}\n",
      "{'PowerConversionEfficiency': {'raw_value': '11.59', 'raw_units': '%', 'value': [11.59], 'units': 'Percent^(1.0)', 'specifier': 'PCE', 'compound': {'Compound': {'names': ['Perovskite', 'perovskite'], 'roles': ['product']}}}}\n",
      "{'PowerConversionEfficiency': {'raw_value': '7', 'raw_units': '%', 'value': [7.0], 'units': 'Percent^(1.0)', 'specifier': 'PCE', 'compound': {'Compound': {'names': ['BiFe_1− x Ni_ x O_3'], 'labels': ['x = 0.7 , 0.8 and 0.9']}}}}\n",
      "{'PowerConversionEfficiency': {'raw_value': '73', 'raw_units': '%', 'value': [73.0], 'units': 'Percent^(1.0)', 'specifier': 'power conversion efficiency', 'compound': {'Compound': {'labels': ['V']}}}}\n",
      "{'PowerConversionEfficiency': {'raw_value': '15.14', 'raw_units': '%', 'value': [15.14], 'units': 'Percent^(1.0)', 'specifier': 'PCE', 'compound': {'Compound': {'names': ['Cl']}}}}\n",
      "{'PowerConversionEfficiency': {'raw_value': '18', 'raw_units': '%', 'value': [18.0], 'units': 'Percent^(1.0)', 'specifier': 'PCE', 'compound': {'Compound': {'names': ['Cl']}}}}\n",
      "{'PowerConversionEfficiency': {'raw_value': '12.81', 'raw_units': '%', 'value': [12.81], 'units': 'Percent^(1.0)', 'specifier': 'PCE', 'compound': {'Compound': {'names': ['Cl']}}}}\n",
      "{'PowerConversionEfficiency': {'raw_value': '18.18', 'raw_units': '%', 'value': [18.18], 'units': 'Percent^(1.0)', 'specifier': 'power conversion efficiency', 'compound': {'Compound': {'labels': ['x = 0.00 , 0.25 , 0.50 , and 0.75']}}}}\n",
      "{'PowerConversionEfficiency1': {'raw_value': '12.19', 'raw_units': '%', 'value': [12.19], 'units': 'Percent^(1.0)', 'specifier': 'power conversion efficiency (PCE) is', 'compound': {'Compound': {'names': ['ethylammonium chlorine']}}}}\n",
      "{'PowerConversionEfficiency1': {'raw_value': '3.01', 'raw_units': '%', 'value': [3.01], 'units': 'Percent^(1.0)', 'specifier': 'power conversion efficiency (PCE) of', 'compound': {'Compound': {'names': ['Perovskite', 'perovskite'], 'roles': ['product']}}}}\n"
     ]
    }
   ],
   "source": [
    "from chemdataextractor.doc import Document\n",
    "#from chemdataextractor.doc.document\n",
    "from chemdataextractor.model.units import TemperatureModel, RatioModel,TimeModel,DimensionlessModel\n",
    "from chemdataextractor.model.model import Compound, ModelType, StringType, CurieTemperature\n",
    "from chemdataextractor.model.base import BaseModel\n",
    "#from chemdataextractor.model.pv_model import OpenCircuitVoltage\n",
    "from chemdataextractor.parse.elements import I,R,W,Optional,ZeroOrMore\n",
    "from chemdataextractor.parse.actions import join, merge\n",
    "from chemdataextractor.parse.cem import CompoundParser,ChemicalLabelParser\n",
    "from chemdataextractor.reader.plaintext import PlainTextReader\n",
    "#\n",
    "with open('1.txt', 'rb') as f:\n",
    "    doc = Document.from_file(f)\n",
    "#a = open('3.txt', 'a', encoding='UTF8')\n",
    "\n",
    "#print(doc.cems)\n",
    "doc.records\n",
    "'''\n",
    "class Additives(BaseModel):\n",
    "    specifier_expr = I('Additives') .add_action(join)\n",
    "\n",
    "    name=StringType()\n",
    "    parsers = [ChemicalLabelParser()]\n",
    "'''\n",
    "\n",
    "class PowerConversionEfficiency(RatioModel):\n",
    "    #specifier_expr = ((I('Power')+I('Conversion')+I('Efficiency')) | I('PCE')).add_action(join)\n",
    "\n",
    "    #specifier_expr = (((I('Power')|I('photo')|I('photovoltaic'))+ I('Conversion') + I('Efficiency')+I('(PCE)')+(I('is')|I('of')|I('was')))|(I('improved')+I('PCE')+I('of'))|((I('the')|I('this'))+I('PCE')+(I('is')|I('of')))).add_action(join)\n",
    "    #specifier_expr = (((I('Power')|I('photo')|I('photovoltaic'))+I('Conversion')+I('Efficiency')+(W('(')+I('PCE')+W(')')).add_action(merge)+(I('is')|I('of')|I('was')))|((I('the')|I('this'))+I('PCE')+(I('is')|I('of')))).add_action(join)\n",
    "    specifier_expr =(I('Power')+I('Conversion') + I('Efficiency')|I('PCE')|I('photo')+I('conversion')+I('efficiency')).add_action(join)\n",
    "    specifier = StringType(parse_expression=specifier_expr, required=True, contextual=True, updatable=True)\n",
    "    compound = ModelType(Compound, required=True, contextual=True)\n",
    "\n",
    "class PowerConversionEfficiency1(RatioModel):\n",
    "    specifier_expr = (ZeroOrMore(I('A')|I('the')).hide()+ZeroOrMore(I('high')|I('highest'))+ZeroOrMore(I('average'))+I('Power') + I('Conversion') + I('Efficiency') +(W('(')+I('PCE')+W(')')).add_action(merge)+(W('=')|I('of')|I('is')|I('was')|I('at'))).add_action(join)\n",
    "    specifier = StringType(parse_expression=specifier_expr, required=True, contextual=True, updatable=True)\n",
    "    compound = ModelType(Compound, required=True, contextual=True)\n",
    "    #dditives=ModelType(Additives, required=False, contextual=False)\n",
    "class PowerConversionEfficiency2(RatioModel):\n",
    "    specifier_expr = (ZeroOrMore(I('A')|I('the')).hide()+(I('Power') + I('Conversion') + I('Efficiency') |I('PCE'))+(I('of')|I('is')|I('was')|I('at')|I('are')|I('were'))+I('improved')+I('from')+(R(r'\\d+')+W('%')).add_action(merge)+I('to')).add_action(join)\n",
    "    specifier = StringType(parse_expression=specifier_expr, required=True, contextual=True, updatable=True)\n",
    "    compound = ModelType(Compound, required=True, contextual=True)\n",
    "#class FromTo(RatioModel):\n",
    "f = open('1.txt','rb')\n",
    "doc = Document.from_file(f)\n",
    "#doc.models = [PowerConversionEfficiency,PowerConversionEfficiency1]\n",
    "doc.models = [PowerConversionEfficiency,PowerConversionEfficiency1,PowerConversionEfficiency2]\n",
    "print(doc.models)\n",
    "for record in doc.records:\n",
    "    print(record.serialize())\n",
    "   #print(record.serialize(),file=a)\n",
    "\n"
   ]
  },
  {
   "cell_type": "code",
   "execution_count": null,
   "id": "24e2a6c0",
   "metadata": {},
   "outputs": [],
   "source": []
  }
 ],
 "metadata": {
  "kernelspec": {
   "display_name": "Python [conda env:py37]",
   "language": "python",
   "name": "conda-env-py37-py"
  },
  "language_info": {
   "codemirror_mode": {
    "name": "ipython",
    "version": 3
   },
   "file_extension": ".py",
   "mimetype": "text/x-python",
   "name": "python",
   "nbconvert_exporter": "python",
   "pygments_lexer": "ipython3",
   "version": "3.7.0"
  }
 },
 "nbformat": 4,
 "nbformat_minor": 5
}
